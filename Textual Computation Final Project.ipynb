{
 "cells": [
  {
   "cell_type": "code",
   "execution_count": 26,
   "metadata": {},
   "outputs": [],
   "source": [
    "from requests import get\n",
    "from bs4 import BeautifulSoup as bs\n",
    "from pandas import DataFrame as df\n",
    "from pandas import read_csv, read_pickle\n",
    "import numpy as np\n",
    "from datetime import date, datetime\n",
    "import re\n",
    "import matplotlib.pyplot as plt\n",
    "from keras.models import Sequential, load_model\n",
    "from keras.layers import Dense, Embedding, LSTM, Dropout\n",
    "from keras.utils import to_categorical\n",
    "from random import randint\n",
    "%matplotlib inline"
   ]
  },
  {
   "cell_type": "code",
   "execution_count": 4,
   "metadata": {},
   "outputs": [
    {
     "data": {
      "text/plain": [
       "'\\nThis project was created to eventually use ML to develop a story based off of \\nthe text already given by the website, learnakan. These are not my stories, \\nbut they are the property of the creator. I am simply interested in analysis, \\nand learning how to generate text.\\nThe machine learning models do NOT work.'"
      ]
     },
     "execution_count": 4,
     "metadata": {},
     "output_type": "execute_result"
    }
   ],
   "source": [
    "'''This project was created to eventually use ML to develop a story based off of \n",
    "the text already given by the website, learnakan. These are not my stories, \n",
    "but they are the property of the creator. I am simply interested in analysis, \n",
    "and learning how to generate text.'''"
   ]
  },
  {
   "cell_type": "code",
   "execution_count": 2,
   "metadata": {},
   "outputs": [
    {
     "name": "stdout",
     "output_type": "stream",
     "text": [
      "NLTK Downloader\n",
      "---------------------------------------------------------------------------\n",
      "    d) Download   l) List    u) Update   c) Config   h) Help   q) Quit\n",
      "---------------------------------------------------------------------------\n",
      "Downloader> stopwords\n",
      "Command 'stopwords' unrecognized\n",
      "\n",
      "---------------------------------------------------------------------------\n",
      "    d) Download   l) List    u) Update   c) Config   h) Help   q) Quit\n",
      "---------------------------------------------------------------------------\n",
      "Downloader> stopwords\n",
      "Command 'stopwords' unrecognized\n",
      "\n",
      "---------------------------------------------------------------------------\n",
      "    d) Download   l) List    u) Update   c) Config   h) Help   q) Quit\n",
      "---------------------------------------------------------------------------\n",
      "Downloader> stopword\n",
      "Command 'stopword' unrecognized\n",
      "\n",
      "---------------------------------------------------------------------------\n",
      "    d) Download   l) List    u) Update   c) Config   h) Help   q) Quit\n",
      "---------------------------------------------------------------------------\n",
      "Downloader> d\n",
      "\n",
      "Download which package (l=list; x=cancel)?\n",
      "  Identifier> stopwords\n"
     ]
    },
    {
     "name": "stderr",
     "output_type": "stream",
     "text": [
      "    Downloading package stopwords to\n",
      "        C:\\Users\\winte_000\\AppData\\Roaming\\nltk_data...\n",
      "      Package stopwords is already up-to-date!\n"
     ]
    },
    {
     "name": "stdout",
     "output_type": "stream",
     "text": [
      "\n",
      "---------------------------------------------------------------------------\n",
      "    d) Download   l) List    u) Update   c) Config   h) Help   q) Quit\n",
      "---------------------------------------------------------------------------\n",
      "Downloader> q\n"
     ]
    }
   ],
   "source": [
    "import nltk\n",
    "nltk.download_shell()"
   ]
  },
  {
   "cell_type": "code",
   "execution_count": 3,
   "metadata": {},
   "outputs": [
    {
     "name": "stdout",
     "output_type": "stream",
     "text": [
      "Downloaded!\n"
     ]
    }
   ],
   "source": [
    "twi_url = 'https://learnakan.com/twi-short-story-2/'\n",
    "twi_url2 = 'https://learnakan.com/twi-short-story-part-three-3-with-english-translation/'\n",
    "#download the web page w req\n",
    "twi_download = get(twi_url)\n",
    "twi_down2 = get(twi_url2)\n",
    "print('Downloaded!')\n",
    "#bs parting\n",
    "twi_html = bs(twi_download.text, 'html.parser') #problem w lxml\n",
    "twi_html2 = bs(twi_down2.text, 'html.parser') #problem w lxml"
   ]
  },
  {
   "cell_type": "code",
   "execution_count": 4,
   "metadata": {},
   "outputs": [],
   "source": [
    "# Initialize variables\n",
    "textTag = 'p'\n",
    "cols = ['text']\n",
    "# Extract the tags.\n",
    "paragraphs = twi_html.find_all(textTag)\n",
    "para2 = twi_html2.find_all(textTag)\n",
    "#Loop through each one to extract its text.\n",
    "article = [paragraph.get_text() for paragraph in paragraphs]\n",
    "article2 = [paragraph.get_text() for paragraph in para2]\n",
    "# Load data into dataframe\n",
    "df1 = df(article, columns=cols)\n",
    "df2 = df(article2, columns=cols)"
   ]
  },
  {
   "cell_type": "code",
   "execution_count": 6,
   "metadata": {},
   "outputs": [
    {
     "name": "stdout",
     "output_type": "stream",
     "text": [
      "(In this same community lived a handsome young man whom many used to call ‘Obiarabɛwu’. They explain that this young man had once made much money for himself. Despite his wealth, Obiarabɛwu was very humble, and kind. Whether you’re young or old, Obiarabɛwu showed you respect. If you’re in need too and he has, he’s quick to help you.)(Women like rosy lifestyles. I’m sure you’ve heard this saying before. So, which lady wouldn’t want such a handsome wealthy young man? My friend says, it didn’t take too long before different kinds of women began ‘pushing themselves on’ Obiarabɛwu. Amongst them the tall and short ones, the plump and slim ones, you should’ve seen it for yourself, you shouldn’t be told.)(Obiarabɛwu wasn’t someone who lived a reckless lifestyle. To ensure that he doesn’t fall morally, he chose one lady out of the lot and married her. After the marriage, Obiarabɛwu showed true love to his wife; his wife also made Obiarabɛwu see that she loved him dearly.)Because of the love and trust that Obiarabɛwu had in his wife, he documented all his property in her name. The different houses that he built, the different vehicles that he bought, the different companies that he opened, he documented all in his wife’s name. Many of his friends and family members were not too pleased with what Obiarabɛwu was doing but we can only say much about someone’s marital affairs.\n",
      "But you didn’t ask me about what Marlay did to the many clothes when he was about to retire to bed? Hmm…Around 6:30 in the evening, Marlay would’ve finished his daily rounds/roaming and gotten back to where he sleeps. By the time he gets back too, he’ll be like a house; so big. Then, he’ll patiently take off the dresses one after the other and heap them on the floor till none is left on him. After this, he’ll set off in his nakedness to find something to eat, before he comes back to sleep. When he’s out scavenging for food, that’s the time when those whose clothes were stolen by Marlay in the day, and who know no shame, run to pick theirs out of the heap. As for Marlay, whether you’ll come for yours or not, he doesn’t care at all. The only thing he cares about is to wake up the next morning and set off to pick new clothes.While all this was going on, there was something unique that Marlay used to carry about every day, at all times. When he’s going out to roam, he’s carrying it. When he’s eating, it lies right by him. When he’s sleeping, it’s his pillow. And I know for sure that you’ll ask what it was. You’re right to ask. It’s nothing else than a very big sack, full of something, that he’s tied it so tightly! I know many mentally derailed persons carry around different sacks daily but, according to the friend who told me the story, What was unique about Marlay’s is the fact that he had carried the same sack for so many years. And woe betide you if you come close to his sack, you’ll see what will befall you.\n"
     ]
    }
   ],
   "source": [
    "df1.head() \n",
    "df2.head()\n",
    "text = ' '.join(article)\n",
    "para1 = df1['text'].iloc[2]\n",
    "para2 = df1['text'].iloc[4]\n",
    "para3 = df1['text'].iloc[6]\n",
    "para4 = df2['text'].iloc[2]\n",
    "para5 = df2['text'].iloc[4]\n",
    "para6 = df2['text'].iloc[6]\n",
    "para7 = df2['text'].iloc[8]\n",
    "twi1 = para1 + para2 + para3 \n",
    "twi2 = para4 + para5 + para6 + para7\n",
    "print(twi2)\n",
    "print(twi1)"
   ]
  },
  {
   "cell_type": "code",
   "execution_count": 34,
   "metadata": {},
   "outputs": [
    {
     "name": "stdout",
     "output_type": "stream",
     "text": [
      "but you didn ask me about what marlay did to the many clothes when he was about to retire to bed hmm around in the evening marlay would ve finished his daily rounds roaming and gotten back to where he sleeps by the time he gets back too he ll be like house so big then he ll patiently take off the dresses one after the other and heap them on the floor till none is left on him after this he ll set off in his nakedness to find something to eat before he comes back to sleep when he out scavenging for food that the time when those whose clothes were stolen by marlay in the day and who know no shame run to pick theirs out of the heap as for marlay whether you ll come for yours or not he doesn care at all the only thing he cares about is to wake up the next morning and set off to pick new clothes while all this was going on there was something unique that marlay used to carry about every day at all times when he going out to roam he carrying it when he eating it lies right by him when he sleeping it his pillow and know for sure that you ll ask what it was you re right to ask it nothing else than very big sack full of something that he tied it so tightly know many mentally derailed persons carry around different sacks daily but according to the friend who told me the story what was unique about marlay is the fact that he had carried the same sack for so many years and woe betide you if you come close to his sack you ll see what will befall you \n"
     ]
    }
   ],
   "source": [
    "def preprocess_text(sen):\n",
    "    # Remove punctuations and numbers\n",
    "    sentence = re.sub('[^a-zA-Z]', ' ', sen)\n",
    "\n",
    "    # Single character removal\n",
    "    sentence = re.sub(r\"\\s+[a-zA-Z]\\s+\", ' ', sentence)\n",
    "\n",
    "    # Removing multiple spaces\n",
    "    sentence = re.sub(r'\\s+', ' ', sentence)\n",
    "\n",
    "    return sentence.lower()\n",
    "twi_para = preprocess_text(twi1)\n",
    "#not doing well with appostrosphes, need to seperate setences by .\n",
    "print(twi_para)"
   ]
  },
  {
   "cell_type": "code",
   "execution_count": 13,
   "metadata": {},
   "outputs": [
    {
     "name": "stdout",
     "output_type": "stream",
     "text": [
      "Total Words: 317\n",
      "Unique Words: 157\n"
     ]
    }
   ],
   "source": [
    "from nltk.tokenize import word_tokenize\n",
    "\n",
    "twi_para = (word_tokenize(sentence2))\n",
    "n_words = len(twi_para)\n",
    "unique_words = len(set(twi_para))\n",
    "\n",
    "print('Total Words: %d' % n_words)\n",
    "print('Unique Words: %d' % unique_words)"
   ]
  },
  {
   "cell_type": "code",
   "execution_count": 15,
   "metadata": {},
   "outputs": [],
   "source": [
    "from keras.preprocessing.text import Tokenizer\n",
    "tokenizer = Tokenizer(num_words=3437)\n",
    "tokenizer.fit_on_texts(twi_para)"
   ]
  },
  {
   "cell_type": "code",
   "execution_count": 16,
   "metadata": {},
   "outputs": [],
   "source": [
    "vocab_size = len(tokenizer.word_index) + 1\n",
    "word_2_index = tokenizer.word_index"
   ]
  },
  {
   "cell_type": "code",
   "execution_count": 18,
   "metadata": {},
   "outputs": [
    {
     "name": "stdout",
     "output_type": "stream",
     "text": [
      "be\n",
      "72\n"
     ]
    }
   ],
   "source": [
    "print(twi_para[51])\n",
    "print(word_2_index[twi_para[51]])"
   ]
  },
  {
   "cell_type": "code",
   "execution_count": 20,
   "metadata": {},
   "outputs": [],
   "source": [
    "input_sequence = []\n",
    "output_words = []\n",
    "input_seq_length = 100\n",
    "\n",
    "for i in range(0, n_words - input_seq_length , 1):\n",
    "    in_seq = twi_para[i:i + input_seq_length]\n",
    "    out_seq = twi_para[i + input_seq_length]\n",
    "    input_sequence.append([word_2_index[word] for word in in_seq])\n",
    "    output_words.append(word_2_index[out_seq])"
   ]
  },
  {
   "cell_type": "code",
   "execution_count": 21,
   "metadata": {},
   "outputs": [
    {
     "name": "stdout",
     "output_type": "stream",
     "text": [
      "[32, 5, 56, 33, 17, 34, 11, 15, 6, 57, 2, 3, 18, 19, 7, 1, 12, 11, 2, 58, 2, 59, 60, 35, 20, 3, 61, 6, 62, 63, 64, 16, 36, 65, 66, 8, 67, 21, 2, 68, 1, 69, 22, 3, 37, 1, 70, 21, 71, 1, 9, 72, 73, 38, 74, 23, 39, 75, 1, 9, 76, 77, 24, 3, 78, 79, 40, 3, 80, 8, 41, 81, 25, 3, 82, 83, 84, 26, 85, 25, 42, 40, 43, 1, 9, 44, 24, 20, 16, 86, 2, 87, 27, 2, 88, 89, 1, 90, 21, 2]\n"
     ]
    }
   ],
   "source": [
    "print(input_sequence[0])"
   ]
  },
  {
   "cell_type": "code",
   "execution_count": 27,
   "metadata": {},
   "outputs": [
    {
     "name": "stdout",
     "output_type": "stream",
     "text": [
      "X shape: (217, 100, 1)\n",
      "y shape: (217, 158)\n"
     ]
    }
   ],
   "source": [
    "X = np.reshape(input_sequence, (len(input_sequence), input_seq_length, 1))\n",
    "X = X / float(vocab_size)\n",
    "\n",
    "y = to_categorical(output_words)\n",
    "print(\"X shape:\", X.shape)\n",
    "print(\"y shape:\", y.shape)"
   ]
  },
  {
   "cell_type": "code",
   "execution_count": 28,
   "metadata": {},
   "outputs": [
    {
     "name": "stdout",
     "output_type": "stream",
     "text": [
      "Model: \"sequential\"\n",
      "_________________________________________________________________\n",
      "Layer (type)                 Output Shape              Param #   \n",
      "=================================================================\n",
      "lstm (LSTM)                  (None, 100, 800)          2566400   \n",
      "_________________________________________________________________\n",
      "lstm_1 (LSTM)                (None, 100, 800)          5123200   \n",
      "_________________________________________________________________\n",
      "lstm_2 (LSTM)                (None, 800)               5123200   \n",
      "_________________________________________________________________\n",
      "dense (Dense)                (None, 158)               126558    \n",
      "=================================================================\n",
      "Total params: 12,939,358\n",
      "Trainable params: 12,939,358\n",
      "Non-trainable params: 0\n",
      "_________________________________________________________________\n"
     ]
    }
   ],
   "source": [
    "model = Sequential()\n",
    "model.add(LSTM(800, input_shape=(X.shape[1], X.shape[2]), return_sequences=True))\n",
    "model.add(LSTM(800, return_sequences=True))\n",
    "model.add(LSTM(800))\n",
    "model.add(Dense(y.shape[1], activation='softmax'))\n",
    "\n",
    "model.summary()\n",
    "\n",
    "model.compile(loss='categorical_crossentropy', optimizer='adam')"
   ]
  },
  {
   "cell_type": "code",
   "execution_count": 29,
   "metadata": {},
   "outputs": [
    {
     "name": "stdout",
     "output_type": "stream",
     "text": [
      "lies right by him when he s sleeping it s his pillow and i know for sure that you ll ask what it was you re right to ask it s nothing else than a very big sack full of something that he s tied it so tightly i know many mentally derailed persons carry around different sacks daily but according to the friend who told me the story what was unique about marlay s is the fact that he had carried the same sack for so many years and woe betide you if you come close to his sack\n"
     ]
    }
   ],
   "source": [
    "random_seq_index = np.random.randint(0, len(input_sequence)-1)\n",
    "random_seq = input_sequence[random_seq_index]\n",
    "\n",
    "index_2_word = dict(map(reversed, word_2_index.items()))\n",
    "\n",
    "word_sequence = [index_2_word[value] for value in random_seq]\n",
    "\n",
    "print(' '.join(word_sequence))"
   ]
  },
  {
   "cell_type": "code",
   "execution_count": 30,
   "metadata": {},
   "outputs": [],
   "source": [
    "for i in range(100):\n",
    "    int_sample = np.reshape(random_seq, (1, len(random_seq), 1))\n",
    "    int_sample = int_sample / float(vocab_size)\n",
    "\n",
    "    predicted_word_index = model.predict(int_sample, verbose=0)\n",
    "\n",
    "    predicted_word_id = np.argmax(predicted_word_index)\n",
    "    seq_in = [index_2_word[index] for index in random_seq]\n",
    "\n",
    "    word_sequence.append(index_2_word[ predicted_word_id])\n",
    "\n",
    "    random_seq.append(predicted_word_id)\n",
    "    random_seq = random_seq[1:len(random_seq)]"
   ]
  },
  {
   "cell_type": "code",
   "execution_count": 31,
   "metadata": {},
   "outputs": [
    {
     "name": "stdout",
     "output_type": "stream",
     "text": [
      " lies right by him when he s sleeping it s his pillow and i know for sure that you ll ask what it was you re right to ask it s nothing else than a very big sack full of something that he s tied it so tightly i know many mentally derailed persons carry around different sacks daily but according to the friend who told me the story what was unique about marlay s is the fact that he had carried the same sack for so many years and woe betide you if you come close to his sack nothing nothing nothing nothing nothing nothing nothing nothing nothing nothing nothing nothing nothing nothing nothing nothing nothing nothing nothing nothing nothing nothing nothing nothing nothing nothing nothing nothing nothing nothing nothing nothing nothing nothing nothing nothing nothing nothing nothing nothing nothing nothing nothing nothing nothing nothing nothing nothing nothing nothing nothing nothing nothing nothing nothing nothing nothing nothing nothing nothing nothing nothing nothing nothing nothing nothing nothing nothing nothing nothing nothing nothing nothing nothing nothing nothing nothing nothing nothing nothing nothing nothing nothing nothing nothing nothing nothing nothing nothing nothing nothing nothing nothing nothing nothing nothing nothing nothing nothing nothing\n"
     ]
    }
   ],
   "source": [
    "final_output = \"\"\n",
    "for word in word_sequence:\n",
    "    final_output = final_output + \" \" + word\n",
    "\n",
    "print(final_output)"
   ]
  },
  {
   "cell_type": "code",
   "execution_count": 14,
   "metadata": {},
   "outputs": [
    {
     "name": "stdout",
     "output_type": "stream",
     "text": [
      "The shape is: (18, 45)\n",
      "{'ask': 1, 'marlay': 12, 'clothes': 4, 'retire': 17, '630': 0, 've': 43, 'daily': 6, 'rounds': 21, 'roaming': 20, 'sleeps': 29, 'time': 38, 'll': 11, 'big': 2, 'patiently': 13, 'heap': 9, 'till': 37, 'set': 26, 'sleep': 27, 'scavenging': 25, 'stolen': 30, 'day': 7, 'know': 10, 'run': 22, 'pick': 15, 'theirs': 33, 'come': 5, 'thing': 34, 'wake': 44, 'going': 8, 'unique': 41, 'used': 42, 'carry': 3, 'times': 39, 'roam': 19, 'right': 18, 'sleeping': 28, 'pillow': 16, 'sure': 32, 'sack': 23, 'tied': 35, 'tightly': 36, 'persons': 14, 'sacks': 24, 'told': 40, 'story': 31}\n",
      "The other shape is: (17, 45)\n",
      "{'lived': 5, 'handsome': 3, 'young': 44, 'man': 7, 'used': 35, 'obiarabɛwu': 10, 'money': 8, 'wealth': 40, 'old': 11, 'showed': 28, 'respect': 20, 'need': 9, 'quick': 18, 'women': 43, 'rosy': 21, 'sure': 30, 've': 36, 'saying': 23, 'lady': 4, 'want': 38, 'wealthy': 41, 'says': 24, 'different': 1, 'pushing': 17, 'tall': 31, 'short': 26, 'ones': 12, 'plump': 15, 'slim': 29, 'seen': 25, 'shouldn': 27, 'told': 32, 'wasn': 39, 'reckless': 19, 'true': 33, 'love': 6, 'wife': 42, 'trust': 34, 'documented': 2, 'property': 16, 'vehicles': 37, 'opened': 13, 'pleased': 14, 'say': 22, 'affairs': 0}\n"
     ]
    },
    {
     "name": "stderr",
     "output_type": "stream",
     "text": [
      "C:\\Users\\winte_000\\miniconda3\\lib\\site-packages\\sklearn\\utils\\validation.py:67: FutureWarning: Pass input=['but you didn’t ask me about what marlay did to the many clothes when he was about to retire to bed', 'hmm…around 630 in the evening marlay would’ve finished his daily rounds/roaming and gotten back to where he sleeps', 'by the time he gets back too he’ll be like a house; so big', 'then he’ll patiently take off the dresses one after the other and heap them on the floor till none is left on him', 'after this he’ll set off in his nakedness to find something to eat before he comes back to sleep', 'when he’s out scavenging for food that’s the time when those whose clothes were stolen by marlay in the day and who know no shame run to pick theirs out of the heap', 'as for marlay whether you’ll come for yours or not he doesn’t care at all', 'the only thing he cares about is to wake up the next morning and set off to pick new clothes', 'while all this was going on there was something unique that marlay used to carry about every day at all times', 'when he’s going out to roam he’s carrying it', 'when he’s eating it lies right by him', 'when he’s sleeping it’s his pillow', 'and i know for sure that you’ll ask what it was', 'you’re right to ask', 'it’s nothing else than a very big sack full of something that he’s tied it so tightly', 'i know many mentally derailed persons carry around different sacks daily but according to the friend who told me the story what was unique about marlay’s is the fact that he had carried the same sack for so many years', 'and woe betide you if you come close to his sack you’ll see what will befall you', ''] as keyword args. From version 0.25 passing these as positional arguments will result in an error\n",
      "  warnings.warn(\"Pass {} as keyword args. From version 0.25 \"\n",
      "C:\\Users\\winte_000\\miniconda3\\lib\\site-packages\\sklearn\\utils\\validation.py:67: FutureWarning: Pass input=['in this same community lived a handsome young man whom many used to call ‘obiarabɛwu’', 'they explain that this young man had once made much money for himself', 'despite his wealth obiarabɛwu was very humble and kind', 'whether you’re young or old obiarabɛwu showed you respect', 'if you’re in need too and he has he’s quick to help you', 'women like rosy lifestyles', 'i’m sure you’ve heard this saying before', 'so which lady wouldn’t want such a handsome wealthy young man', 'my friend says it didn’t take too long before different kinds of women began ‘pushing themselves on’ obiarabɛwu', 'amongst them the tall and short ones the plump and slim ones you should’ve seen it for yourself you shouldn’t be told', 'obiarabɛwu wasn’t someone who lived a reckless lifestyle', 'to ensure that he doesn’t fall morally he chose one lady out of the lot and married her', 'after the marriage obiarabɛwu showed true love to his wife; his wife also made obiarabɛwu see that she loved him dearly', 'because of the love and trust that obiarabɛwu had in his wife he documented all his property in her name', 'the different houses that he built the different vehicles that he bought the different companies that he opened he documented all in his wife’s name', 'many of his friends and family members were not too pleased with what obiarabɛwu was doing but we can only say much about someone’s marital affairs', ''] as keyword args. From version 0.25 passing these as positional arguments will result in an error\n",
      "  warnings.warn(\"Pass {} as keyword args. From version 0.25 \"\n"
     ]
    }
   ],
   "source": [
    "from sklearn.feature_extraction.text import CountVectorizer\n",
    "text = new_twi1\n",
    "labels = new_twi2\n",
    "#print(new_twi1)\n",
    "\n",
    "#text2 = new_twi2\n",
    "cv_final=CountVectorizer(text,max_features=45,ngram_range=(1,1),stop_words='english',min_df=1)\n",
    "cv_final_labs=CountVectorizer(labels,max_features=45,ngram_range=(1,1),stop_words='english',min_df=1)\n",
    "\n",
    "#count vect is tokenizer\n",
    "cv_final_doc=cv_final.fit_transform(text)\n",
    "cv_lab_doc=cv_final_labs.fit_transform(labels)\n",
    "\n",
    "print('The shape is:', cv_final_doc.shape)\n",
    "print(cv_final.vocabulary_) #token values\n",
    "print(\"The other shape is:\",cv_lab_doc.shape)\n",
    "print(cv_final_labs.vocabulary_) #token values"
   ]
  },
  {
   "cell_type": "code",
   "execution_count": 15,
   "metadata": {},
   "outputs": [
    {
     "name": "stdout",
     "output_type": "stream",
     "text": [
      "{'but': 17, 'you': 152, 'didn': 32, 'ask': 8, 'me': 70, 'about': 1, 'what': 141, 'marlay': 69, 'did': 31, 'to': 130, 'the': 117, 'many': 68, 'clothes': 25, 'when': 142, 'he': 53, 'was': 139, 'retire': 93, 'bed': 12, 'hmm': 57, 'around': 6, '630': 0, 'in': 60, 'evening': 39, 'would': 150, 've': 136, 'finished': 43, 'his': 56, 'daily': 28, 'rounds': 97, 'roaming': 96, 'and': 5, 'gotten': 51, 'back': 10, 'where': 143, 'sleeps': 108, 'by': 18, 'time': 128, 'gets': 49, 'too': 132, 'll': 67, 'be': 11, 'like': 66, 'house': 58, 'so': 109, 'big': 16, 'then': 120, 'patiently': 88, 'take': 114, 'off': 81, 'dresses': 35, 'one': 83, 'after': 3, 'other': 86, 'heap': 54, 'them': 119, 'on': 82, 'floor': 44, 'till': 127, 'none': 77, 'is': 61, 'left': 64, 'him': 55, 'this': 123, 'set': 104, 'nakedness': 73, 'find': 42, 'something': 110, 'eat': 36, 'before': 14, 'comes': 27, 'sleep': 106, 'out': 87, 'scavenging': 102, 'for': 46, 'food': 45, 'that': 116, 'those': 124, 'whose': 147, 'were': 140, 'stolen': 111, 'day': 29, 'who': 146, 'know': 63, 'no': 76, 'shame': 105, 'run': 98, 'pick': 90, 'theirs': 118, 'of': 80, 'as': 7, 'whether': 144, 'come': 26, 'yours': 153, 'or': 85, 'not': 78, 'doesn': 34, 'care': 19, 'at': 9, 'all': 4, 'only': 84, 'thing': 122, 'cares': 20, 'wake': 138, 'up': 134, 'next': 75, 'morning': 72, 'new': 74, 'while': 145, 'going': 50, 'there': 121, 'unique': 133, 'used': 135, 'carry': 22, 'every': 40, 'times': 129, 'roam': 95, 'carrying': 23, 'it': 62, 'eating': 37, 'lies': 65, 'right': 94, 'sleeping': 107, 'pillow': 91, 'sure': 113, 're': 92, 'nothing': 79, 'else': 38, 'than': 115, 'very': 137, 'sack': 99, 'full': 48, 'tied': 125, 'tightly': 126, 'mentally': 71, 'derailed': 30, 'persons': 89, 'different': 33, 'sacks': 100, 'according': 2, 'friend': 47, 'told': 131, 'story': 112, 'fact': 41, 'had': 52, 'carried': 21, 'same': 101, 'years': 151, 'woe': 149, 'betide': 15, 'if': 59, 'close': 24, 'see': 103, 'will': 148, 'befall': 13}\n",
      "[3.2512918  2.33500107 3.2512918  2.84582669 2.84582669 1.99852883\n",
      " 2.84582669 3.2512918  2.55814462 2.84582669 2.55814462 3.2512918\n",
      " 3.2512918  3.2512918  3.2512918  3.2512918  2.84582669 2.84582669\n",
      " 2.55814462 3.2512918  3.2512918  3.2512918  2.84582669 3.2512918\n",
      " 3.2512918  2.55814462 2.84582669 3.2512918  2.84582669 2.84582669\n",
      " 3.2512918  3.2512918  3.2512918  3.2512918  3.2512918  3.2512918\n",
      " 3.2512918  3.2512918  3.2512918  3.2512918  3.2512918  3.2512918\n",
      " 3.2512918  3.2512918  3.2512918  3.2512918  2.33500107 3.2512918\n",
      " 3.2512918  3.2512918  2.84582669 3.2512918  3.2512918  1.30538165\n",
      " 2.84582669 2.84582669 2.33500107 3.2512918  3.2512918  3.2512918\n",
      " 2.55814462 2.55814462 2.15267951 2.55814462 3.2512918  3.2512918\n",
      " 3.2512918  1.99852883 2.84582669 1.99852883 2.84582669 3.2512918\n",
      " 3.2512918  3.2512918  3.2512918  3.2512918  3.2512918  3.2512918\n",
      " 3.2512918  3.2512918  2.84582669 2.55814462 2.84582669 3.2512918\n",
      " 3.2512918  3.2512918  3.2512918  2.84582669 3.2512918  3.2512918\n",
      " 2.84582669 3.2512918  3.2512918  3.2512918  2.84582669 3.2512918\n",
      " 3.2512918  3.2512918  3.2512918  2.55814462 3.2512918  3.2512918\n",
      " 3.2512918  3.2512918  2.84582669 3.2512918  3.2512918  3.2512918\n",
      " 3.2512918  2.55814462 2.55814462 3.2512918  3.2512918  3.2512918\n",
      " 3.2512918  3.2512918  2.15267951 1.86499744 3.2512918  3.2512918\n",
      " 3.2512918  3.2512918  3.2512918  2.84582669 3.2512918  3.2512918\n",
      " 3.2512918  3.2512918  2.84582669 3.2512918  1.54654371 3.2512918\n",
      " 3.2512918  2.84582669 3.2512918  3.2512918  3.2512918  3.2512918\n",
      " 3.2512918  2.33500107 3.2512918  2.33500107 2.15267951 3.2512918\n",
      " 3.2512918  3.2512918  2.84582669 3.2512918  3.2512918  3.2512918\n",
      " 3.2512918  3.2512918  2.15267951 3.2512918 ]\n"
     ]
    }
   ],
   "source": [
    "from sklearn.feature_extraction.text import TfidfVectorizer\n",
    "#term Frequency – Inverse Document”\n",
    "vectorizer = TfidfVectorizer()\n",
    "# tokenize and build vocab\n",
    "vectorizer.fit(text)\n",
    "# summarize\n",
    "vocabb = vectorizer.vocabulary_\n",
    "print(vocabb)\n",
    "print(vectorizer.idf_)\n",
    "# encode document\n",
    "vector = vectorizer.transform([text[0]])\n",
    "# summarize encoded vector\n",
    "#print(vector.shape)\n",
    "vec_ar = vector.toarray()\n",
    "#print(vec_ar)"
   ]
  },
  {
   "cell_type": "code",
   "execution_count": 16,
   "metadata": {},
   "outputs": [
    {
     "data": {
      "image/png": "[encoded data removed]",
      "text/plain": [
       "<Figure size 432x288 with 1 Axes>"
      ]
     },
     "metadata": {
      "needs_background": "light"
     },
     "output_type": "display_data"
    }
   ],
   "source": [
    "#Data Vis- Histogram of hosts having multiple IDs. Probably would be best shown with a bar graph.\n",
    "plt.hist(vectorizer.idf_, bins = 30)\n",
    "plt.title(\"Freq Dist\")\n",
    "plt.xlabel(\"Number of Words with this rating\")\n",
    "plt.ylabel(\"Frequency\")\n",
    "plt.show()"
   ]
  }
 ],
 "metadata": {
  "kernelspec": {
   "display_name": "Python 3",
   "language": "python",
   "name": "python3"
  },
  "language_info": {
   "codemirror_mode": {
    "name": "ipython",
    "version": 3
   },
   "file_extension": ".py",
   "mimetype": "text/x-python",
   "name": "python",
   "nbconvert_exporter": "python",
   "pygments_lexer": "ipython3",
   "version": "3.8.5"
  }
 },
 "nbformat": 4,
 "nbformat_minor": 4
}
